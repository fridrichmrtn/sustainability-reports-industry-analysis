{
 "cells": [
  {
   "cell_type": "code",
   "execution_count": 1,
   "metadata": {},
   "outputs": [],
   "source": [
    "### prepare\n",
    "import pandas as pd\n",
    "import re\n",
    "import os\n",
    "import requests\n",
    "from concurrent.futures import ThreadPoolExecutor\n",
    "\n",
    "class DataIngestion():\n",
    "    \n",
    "    def __init__(self,\n",
    "                docs_file = \"../../data/unglobalcompact.csv\",\n",
    "                raw_folder = \"../../data/raw_files/\") -> None:\n",
    "        self.docs_file = docs_file\n",
    "        self.raw_folder = raw_folder\n",
    "        pass\n",
    "\n",
    "    def _sanize_name(self, name):\n",
    "        name = re.sub(r\"[^a-zA-Z ]\",\"\", name).lower()\n",
    "        return re.sub(r\"[ ]+\", \"_\", name)\n",
    "    \n",
    "    def _get_file_atts(self, path):\n",
    "        dir = os.path.dirname(path)\n",
    "        base_name = os.path.basename(path)\n",
    "        name, extension = os.path.splitext(base_name)\n",
    "        return {\"dir\" : dir,\n",
    "                \"name\" : name,\n",
    "                \"ext\" : extension.split(\"?\")[0]}\n",
    "    \n",
    "    def _get_destination(self, row, dir=None):\n",
    "        atts_dict = self._get_file_atts(row[\"communication_on_progress_file\"])\n",
    "        index = str(row.name)\n",
    "        company =self._sanize_name(row[\"name\"])\n",
    "        ext = atts_dict[\"ext\"]\n",
    "        if dir is None:\n",
    "            dir = \"\"\n",
    "        return dir + \"_\".join([index, company]) + ext\n",
    "    \n",
    "    def load_docs(self):\n",
    "        self.docs_data = pd.read_csv(self.docs_file)   \n",
    "        new_columns = {c: self._sanize_name(c) for c in self.docs_data.columns}\n",
    "        self.docs_data = self.docs_data.rename(columns=new_columns)\n",
    "        url_rows = self.docs_data .communication_on_progress_file.notnull(),\n",
    "        self.docs_data = self.docs_data .loc[url_rows,\n",
    "                [\"name\",\"type\", \"country\", \"sector\", \"communication_on_progress_file\"]]\n",
    "        self.docs_data[\"file_destination\"] = self.docs_data\\\n",
    "            .apply(self._get_destination, dir=self.raw_folder, axis=1)\n",
    "        \n",
    "    def _download_file(self, url, file_path):\n",
    "        if os.path.exists(file_path):\n",
    "            print(f\"File on '{file_path}' already exists. Skipping download.\")\n",
    "            return None\n",
    "        try:\n",
    "            response = requests.get(url, stream=True)\n",
    "            response.raise_for_status()\n",
    "            with open(file_path, 'wb') as file:\n",
    "                for chunk in response.iter_content(chunk_size=8192):\n",
    "                    file.write(chunk)\n",
    "            print(f\"File on '{file_path}' downloaded successfully.\")\n",
    "            return file_path\n",
    "        except requests.RequestException as e:\n",
    "            print(f\"Error downloading '{file_path}': {e}\")\n",
    "            return None\n",
    "\n",
    "    def download_reports(self):\n",
    "        url_list = self.docs_data[\"communication_on_progress_file\"].values\n",
    "        path_list = self.docs_data[\"file_destination\"].values\n",
    "        with ThreadPoolExecutor(max_workers=5) as executor:\n",
    "            executor.map(self._download_file, url_list, path_list)\n",
    "        # NOTE: possibly add check on what was downloaded\n",
    "        return self"
   ]
  },
  {
   "cell_type": "code",
   "execution_count": null,
   "metadata": {},
   "outputs": [],
   "source": [
    "# check the file type\n",
    "# convert\n",
    "# map converted files to the dataframe\n",
    "\n",
    "def get_conversion_path(file_destination, dir_name=None):\n",
    "    if dir_name==None:\n",
    "        dir_name = os.path.dirname(file_destination)\n",
    "    base_name = os.path.basename(file_destination)\n",
    "    name, extension = os.path.splitext(base_name)\n",
    "    return os.path.join(*[dir_name, name+\".pdf\"])"
   ]
  },
  {
   "cell_type": "code",
   "execution_count": null,
   "metadata": {},
   "outputs": [],
   "source": [
    "import magic\n",
    "docs[\"file_type\"] = docs\\\n",
    "    .apply(lambda x:magic.from_file(x[\"file_destination\"],mime=True),\n",
    "           axis=1)"
   ]
  },
  {
   "cell_type": "code",
   "execution_count": null,
   "metadata": {},
   "outputs": [],
   "source": [
    "docs[\"converted_file_status\"] = None\n",
    "docs[\"converted_file_destination\"] = None\n",
    "pdf_rows = docs.file_type==\"application/pdf\"\n",
    "docs.loc[pdf_rows, \"converted_file_destination\"] = docs.loc[pdf_rows, \"file_destination\"]\n",
    "conv_rows_ind = docs.loc[docs.converted_file_destination.isnull(),].index"
   ]
  },
  {
   "cell_type": "code",
   "execution_count": 7,
   "metadata": {},
   "outputs": [],
   "source": [
    "# convert file destination to new destination with pdf extension\n",
    "import subprocess\n",
    "for ind in conv_rows_ind:\n",
    "    file_destination = docs.loc[ind, \"file_destination\"]\n",
    "    converted_file_destination = get_conversion_path(file_destination)\n",
    "    try:\n",
    "        cmd = \"libreoffice --headless --convert-to pdf \"+file_destination+\" --outdir \"\\\n",
    "            + os.path.dirname(converted_file_destination)\n",
    "        cmd = [\"libreoffice\", \"--headless\", \"convert-to\", \"pdf\", file_destination, \"--outdir\", str(os.path.dirname(converted_file_destination))]\n",
    "        docs.loc[ind, \"converted_file_status\"] = subprocess.check_call(cmd, shell=True)\n",
    "        if os.path.exists(converted_file_destination):\n",
    "            docs.loc[ind,\"converted_file_destination\"] = converted_file_destination       \n",
    "    except:\n",
    "        print(\"Conversion of the file {} failed.\".format(file_destination))\n",
    "        continue\n",
    "    os.system(\"pkill soffice.bin\")    \n"
   ]
  },
  {
   "cell_type": "code",
   "execution_count": null,
   "metadata": {},
   "outputs": [],
   "source": []
  },
  {
   "cell_type": "code",
   "execution_count": null,
   "metadata": {},
   "outputs": [],
   "source": []
  }
 ],
 "metadata": {
  "kernelspec": {
   "display_name": ".env",
   "language": "python",
   "name": "python3"
  },
  "language_info": {
   "codemirror_mode": {
    "name": "ipython",
    "version": 3
   },
   "file_extension": ".py",
   "mimetype": "text/x-python",
   "name": "python",
   "nbconvert_exporter": "python",
   "pygments_lexer": "ipython3",
   "version": "3.10.12"
  }
 },
 "nbformat": 4,
 "nbformat_minor": 2
}
